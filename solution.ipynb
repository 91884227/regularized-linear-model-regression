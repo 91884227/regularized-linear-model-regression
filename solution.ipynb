{
 "cells": [
  {
   "cell_type": "code",
   "execution_count": 1,
   "metadata": {},
   "outputs": [],
   "source": [
    "import pandas as pd\n",
    "import numpy as np\n",
    "import warnings\n",
    "import matplotlib.pyplot as plt\n",
    "warnings.filterwarnings(\"ignore\")"
   ]
  },
  {
   "cell_type": "markdown",
   "metadata": {},
   "source": [
    "# matrix product"
   ]
  },
  {
   "cell_type": "code",
   "execution_count": 2,
   "metadata": {},
   "outputs": [],
   "source": [
    "def dot(df1_, df2_):\n",
    "    m = df1_.shape[0]\n",
    "    n = df1_.shape[1]\n",
    "    p = df2_.shape[1]\n",
    "    buf_list = np.zeros((m, p))\n",
    "    for i in np.arange(m):\n",
    "        for j in np.arange(p):\n",
    "            buf_list[i][j] = sum(df1_.T[i] * df2_[j])\n",
    "    return( pd.DataFrame(buf_list) )"
   ]
  },
  {
   "cell_type": "markdown",
   "metadata": {},
   "source": [
    "# LU decomposition"
   ]
  },
  {
   "cell_type": "code",
   "execution_count": 3,
   "metadata": {},
   "outputs": [],
   "source": [
    "def list_find_L(list_):\n",
    "    L = np.identity( len(list_[0]) )\n",
    "    for i in list_:\n",
    "        buf = -i\n",
    "        np.fill_diagonal(buf.values, 1)\n",
    "        L = dot(L, buf)\n",
    "    return(L)"
   ]
  },
  {
   "cell_type": "code",
   "execution_count": 4,
   "metadata": {},
   "outputs": [],
   "source": [
    "def LU_dec(df_):\n",
    "    R_list = []\n",
    "    for now_col in np.arange(len(df_)-1):\n",
    "        divisor = df_[now_col][now_col]\n",
    "        buf = df_[now_col][now_col+1:] / divisor * -1\n",
    "        R = pd.DataFrame( np.identity(len(df_)))\n",
    "        R.loc[now_col+1:][now_col] = buf\n",
    "        R_list = R_list + [R]\n",
    "        df_ = dot(R, df_)\n",
    "    \n",
    "    L = pd.DataFrame(list_find_L(R_list))\n",
    "    return( (L, df_) )"
   ]
  },
  {
   "cell_type": "markdown",
   "metadata": {},
   "source": [
    "# Linear system slover using LU decompotision"
   ]
  },
  {
   "cell_type": "code",
   "execution_count": 5,
   "metadata": {},
   "outputs": [],
   "source": [
    "def Ly_equal_b(L_, b_):\n",
    "    L_ = L_.to_numpy()\n",
    "    y = np.zeros( len( L_ ) )   \n",
    "    y[0] = b_[0]\n",
    "    for i in np.arange(1, len(b_)):\n",
    "        y[i] = b_[i] - sum( L_[i] * y )\n",
    "    return(y)   "
   ]
  },
  {
   "cell_type": "code",
   "execution_count": 6,
   "metadata": {},
   "outputs": [],
   "source": [
    "def Ux_equal_y(U_, y_):\n",
    "    U_ = U_.to_numpy()\n",
    "    x = np.zeros( len( U_ ) ) \n",
    "    i = len( U_ )-1\n",
    "    x[i] = y_[i] / U_[i][i]\n",
    "    for i in np.flip(np.arange(len( U_ )-1)):\n",
    "        x[i] = ( y_[i] - sum( U_[i] * x ) ) /  U_[i][i]\n",
    "    return(x)"
   ]
  },
  {
   "cell_type": "code",
   "execution_count": 7,
   "metadata": {},
   "outputs": [],
   "source": [
    "def LU_equal_b(L_, U_, b_):\n",
    "    y_ = Ly_equal_b(L_, b_)\n",
    "    x = Ux_equal_y(U_, y_)\n",
    "    return(x)"
   ]
  },
  {
   "cell_type": "markdown",
   "metadata": {},
   "source": [
    "# Find matrix inverse"
   ]
  },
  {
   "cell_type": "code",
   "execution_count": 8,
   "metadata": {},
   "outputs": [],
   "source": [
    "def inv(df_):\n",
    "    buf = LU_dec(df_)\n",
    "    L = buf[0]\n",
    "    U = buf[1]\n",
    "    list_ = np.identity(len(df_))\n",
    "    buf = []\n",
    "    for i in list_:\n",
    "        buf = buf + [LU_equal_b(L, U, i)]\n",
    "\n",
    "    buf = pd.DataFrame(buf)\n",
    "    return(buf.T)"
   ]
  },
  {
   "cell_type": "markdown",
   "metadata": {},
   "source": [
    "# given data make A matrix"
   ]
  },
  {
   "cell_type": "code",
   "execution_count": 9,
   "metadata": {},
   "outputs": [],
   "source": [
    "def make_A(list_, base_):\n",
    "    buf_df = pd.DataFrame()\n",
    "    j = 0\n",
    "    for i in np.arange(base_):\n",
    "        #col_name = \"x_%d\" % i\n",
    "        buf_df[j] = [ele ** i for ele in list_]\n",
    "        j = j+1\n",
    "    \n",
    "    return(buf_df)"
   ]
  },
  {
   "cell_type": "markdown",
   "metadata": {},
   "source": [
    "# given lambda make lambda * I"
   ]
  },
  {
   "cell_type": "code",
   "execution_count": 10,
   "metadata": {},
   "outputs": [],
   "source": [
    "def make_I(int_):\n",
    "    buf = np.identity(int_)\n",
    "    buf = buf * lamda\n",
    "    return( pd.DataFrame(buf) ) "
   ]
  },
  {
   "cell_type": "markdown",
   "metadata": {},
   "source": [
    "# Find LSE coefficient"
   ]
  },
  {
   "cell_type": "code",
   "execution_count": 11,
   "metadata": {},
   "outputs": [],
   "source": [
    "def find_coe():\n",
    "    A = make_A(read_file.x)\n",
    "    print(A)\n",
    "    y = pd.DataFrame(read_file.y)\n",
    "    y.columns = [0]\n",
    "    buf = dot(A.T, A) + make_I( base_par )\n",
    "    buf2 = dot(inv(buf), buf)\n",
    "    buf3 = dot(buf2, A.T)\n",
    "    return(dot(buf3, y))"
   ]
  },
  {
   "cell_type": "code",
   "execution_count": 12,
   "metadata": {},
   "outputs": [],
   "source": [
    "def reg_slover(pd_, base_, lambda_):\n",
    "    A = make_A(pd_.x, base_)\n",
    "    b = pd.DataFrame(pd_.y)\n",
    "    b.columns = [0]\n",
    "    buf = dot(A.T, A)\n",
    "    lamda_mat = pd.DataFrame(np.identity( len(buf))) * lambda_\n",
    "    buf2 = dot(inv(buf + lamda_mat), A.T.dot(b))\n",
    "    return( (buf2, A, b))"
   ]
  },
  {
   "cell_type": "markdown",
   "metadata": {},
   "source": [
    "# calculate SSE"
   ]
  },
  {
   "cell_type": "code",
   "execution_count": 13,
   "metadata": {},
   "outputs": [],
   "source": [
    "def error_sum(reg_sol_):\n",
    "    test = reg_sol_\n",
    "    buf = (dot(test[1], test[0]) - test[2])**2\n",
    "    return( buf.sum()[0])"
   ]
  },
  {
   "cell_type": "markdown",
   "metadata": {},
   "source": [
    "# format that given by request"
   ]
  },
  {
   "cell_type": "code",
   "execution_count": 14,
   "metadata": {},
   "outputs": [],
   "source": [
    "def output_format(reg_sol_):\n",
    "    test = reg_sol_\n",
    "    buf_list = []\n",
    "    for power, coef in  enumerate(test[0][0]):\n",
    "        buf2 = \"\"\n",
    "        if( np.sign(coef) == 1):\n",
    "            buf2 = \"+%.2fX^%.d\"%( coef, power)\n",
    "        else:\n",
    "            buf2 = \"%.2fX^%.d\"%( coef, power)\n",
    "        buf_list = buf_list + [buf2]\n",
    "    buf_list.reverse()\n",
    "    buf = ''.join(buf_list)[:-3]\n",
    "    if( buf[0] == \"+\"):\n",
    "        buf = buf[1:]\n",
    "    buf = buf.replace(\"+\", \" + \").replace(\"-\", \" - \")\n",
    "    return(buf)"
   ]
  },
  {
   "cell_type": "markdown",
   "metadata": {},
   "source": [
    "# plot the regression line and dot"
   ]
  },
  {
   "cell_type": "code",
   "execution_count": 15,
   "metadata": {},
   "outputs": [],
   "source": [
    "def predict(np_, reg_sol, base_):\n",
    "    test = (reg_sol[0], make_A(np_, base_))\n",
    "    return( dot(test[1], test[0]) )"
   ]
  },
  {
   "cell_type": "code",
   "execution_count": 16,
   "metadata": {},
   "outputs": [],
   "source": [
    "def plot_function(pd_, reg_slo_, base_):\n",
    "    line_x = np.linspace(pd_.x.min()-1, pd_.x.max()+1, 100)\n",
    "    line_y = predict(line_x, reg_slo_, base_)\n",
    "    plt.plot(line_x, line_y)\n",
    "    x = pd_.x\n",
    "    y = pd_.y\n",
    "    plt.scatter(x, y)"
   ]
  },
  {
   "cell_type": "markdown",
   "metadata": {},
   "source": [
    "# LSE final"
   ]
  },
  {
   "cell_type": "code",
   "execution_count": 130,
   "metadata": {},
   "outputs": [],
   "source": [
    "def LSE_function(pd_, lambda_, base_):\n",
    "    #pd_ = pd.DataFrame({\"x\":[-2, -1, 0, 1],   \"y\":[-3, -2, 1, 7]})\n",
    "    #lambda_ = 1\n",
    "    #base = 3\n",
    "    test = reg_slover(pd_, base_, lambda_)\n",
    "    print(\"LSE:\\nFirring line: %s\\nTotal error: %.6f\"\n",
    "          % (output_format(test), error_sum(test)))\n",
    "    plot_function(pd_, test, base_)"
   ]
  },
  {
   "cell_type": "markdown",
   "metadata": {},
   "source": [
    "# newton's method final"
   ]
  },
  {
   "cell_type": "code",
   "execution_count": 125,
   "metadata": {},
   "outputs": [],
   "source": [
    "def newton_method(pd_, base_):\n",
    "    A = make_A(pd_.x, base_)\n",
    "    b = pd.DataFrame(pd_.y)\n",
    "    b.columns = [0]\n",
    "    X = pd.DataFrame(np.ones(base_))\n",
    "    H = 2*dot(A.T, A)\n",
    "    tri = 2*dot(dot(A.T, A), X) - 2*dot(A.T, b)\n",
    "    test = (X - 1*dot(inv(H), tri), A, b)\n",
    "    print(\"Newton's method:\\nFirring line: %s\\nTotal error: %.6f\"% \n",
    "          (output_format(test), error_sum(test)))\n",
    "    plot_function(pd_, test, base_)"
   ]
  },
  {
   "cell_type": "markdown",
   "metadata": {},
   "source": [
    "# Demo Part"
   ]
  },
  {
   "cell_type": "code",
   "execution_count": 133,
   "metadata": {},
   "outputs": [
    {
     "name": "stdout",
     "output_type": "stream",
     "text": [
      "LSE:\n",
      "Firring line: 1.25X^2 + 4.55X^1 + 1.15\n",
      "Total error: 0.050000\n"
     ]
    },
    {
     "data": {
      "image/png": "[encoded data removed]",
      "text/plain": [
       "<Figure size 432x288 with 1 Axes>"
      ]
     },
     "metadata": {
      "needs_background": "light"
     },
     "output_type": "display_data"
    }
   ],
   "source": [
    "# read data\n",
    "pd_ = pd.DataFrame({\"x\":[-2, -1, 0, 1],   \"y\":[-3, -2, 1, 7]})\n",
    "lambda_ = 0\n",
    "base = 3\n",
    "LSE_function(pd_, lambda_, base)"
   ]
  },
  {
   "cell_type": "code",
   "execution_count": 134,
   "metadata": {},
   "outputs": [
    {
     "name": "stdout",
     "output_type": "stream",
     "text": [
      "Newton's method:\n",
      "Firring line: 1.25X^2 + 4.55X^1 + 1.15\n",
      "Total error: 0.050000\n"
     ]
    },
    {
     "data": {
      "image/png": "[encoded data removed]",
      "text/plain": [
       "<Figure size 432x288 with 1 Axes>"
      ]
     },
     "metadata": {
      "needs_background": "light"
     },
     "output_type": "display_data"
    }
   ],
   "source": [
    "newton_method(pd_, base)"
   ]
  },
  {
   "cell_type": "code",
   "execution_count": null,
   "metadata": {},
   "outputs": [],
   "source": []
  }
 ],
 "metadata": {
  "kernelspec": {
   "display_name": "Python 3",
   "language": "python",
   "name": "python3"
  },
  "language_info": {
   "codemirror_mode": {
    "name": "ipython",
    "version": 3
   },
   "file_extension": ".py",
   "mimetype": "text/x-python",
   "name": "python",
   "nbconvert_exporter": "python",
   "pygments_lexer": "ipython3",
   "version": "3.6.4"
  }
 },
 "nbformat": 4,
 "nbformat_minor": 2
}
